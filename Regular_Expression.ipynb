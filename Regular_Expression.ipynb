{
  "nbformat": 4,
  "nbformat_minor": 0,
  "metadata": {
    "colab": {
      "provenance": []
    },
    "kernelspec": {
      "name": "python3",
      "display_name": "Python 3"
    },
    "language_info": {
      "name": "python"
    }
  },
  "cells": [
    {
      "cell_type": "markdown",
      "source": [
        "**Latihan 14.1**\n",
        "\n",
        "Anda diminta untuk mencari seluruh teks yang berupa tanggal dengan format YYYY-MM-DD dan kemudian seluruh tanggal tersebut diambil dan ditampilkan kembali dalam format DD-MM-YYYY ditambah dengan perhitungan selisih dengan tanggal sekarang dalam hari.\n"
      ],
      "metadata": {
        "id": "1tpblLVu8UUO"
      }
    },
    {
      "cell_type": "code",
      "source": [
        "from datetime import date\n",
        "import re\n",
        "\n",
        "teks = '''Pada tanggal 1945-08-17 Indonesia merdeka. Indonesia memiliki beberapa pahlawan nasional,\n",
        "seperti Pangeran Diponegoro (TL: 1785-11-11), Pattimura (TL: 1783-06-08) dan Ki Hajar Dewantara (1889-05-02).'''\n",
        "\n",
        "def hitung_selisih_tanggal(teks):\n",
        "    tanggal_ditemukan = re.findall(r'\\d{4}-[0-1][0-9]-[0-3][0-9]', teks)\n",
        "\n",
        "    for tanggal_str in tanggal_ditemukan:\n",
        "        try:\n",
        "            tahun, bulan, hari = map(int, tanggal_str.split('-'))\n",
        "            selisih_hari = (date(2024, 5, 27) - date(tahun, bulan, hari)).days\n",
        "            tanggal_formatted = f'{hari:02d}-{bulan:02d}-{tahun}'\n",
        "            print(f'{tanggal_formatted} 00:00:00 selisih {selisih_hari} hari')\n",
        "        except ValueError:\n",
        "            continue\n",
        "\n",
        "hitung_selisih_tanggal(teks)\n"
      ],
      "metadata": {
        "colab": {
          "base_uri": "https://localhost:8080/"
        },
        "id": "grD-yaqn8iyn",
        "outputId": "ac3fb305-97f0-4631-8e6b-2ba389e74d98"
      },
      "execution_count": 1,
      "outputs": [
        {
          "output_type": "stream",
          "name": "stdout",
          "text": [
            "17-08-1945 00:00:00 selisih 28773 hari\n",
            "11-11-1785 00:00:00 selisih 87125 hari\n",
            "08-06-1783 00:00:00 selisih 88012 hari\n",
            "02-05-1889 00:00:00 selisih 49333 hari\n"
          ]
        }
      ]
    },
    {
      "cell_type": "markdown",
      "source": [
        "**Latihan 14.2**\n",
        "\n",
        "Anda diminta untuk mencari seluruh teks yang berupa email dan kemudian ambil semua username dari email tersebut untuk digenerate password random 8 karakter yang terdiri dari angka dan huruf.\n",
        "\n",
        "Contoh:\n",
        "\n",
        "Berikut adalah daftar email dan nama pengguna dari mailing list: anton@mail.com dimiliki oleh antonius budi@gmail.co.id dimiliki oleh budi anwari slamet@getnada.com dimiliki oleh slamet slumut matahari@tokopedia.com dimiliki oleh toko matahari\n",
        "\n",
        "Hasil:\n",
        "\n",
        "*anton@mail.com username: anton , password: 8u78A2UD*\n",
        "\n",
        "*budi@gmail.co.id username: budi , password: bdP066Ld*\n",
        "\n",
        "*slamet@getnada.com username: slamet , password: Ab1FiHXb*\n",
        "\n",
        "*matahari@tokopedia.com username: matahari , password: 5KYyaP6*\n",
        "\n"
      ],
      "metadata": {
        "id": "I-a50uJG8m1F"
      }
    },
    {
      "cell_type": "code",
      "source": [
        "import re\n",
        "import random\n",
        "import string\n",
        "\n",
        "text = '''Here is the list of email addresses and usernames from the mailing list:\n",
        "anton@mail.com owned by antonius\n",
        "budi@gmail.co.id owned by budi anwari\n",
        "slamet@getnada.com owned by slamet slumut\n",
        "matahari@tokopedia.com owned by toko matahari'''\n",
        "\n",
        "def generate_random_password():\n",
        "    letters = string.ascii_letters\n",
        "    digits = string.digits\n",
        "    characters = letters + digits\n",
        "    password_chars = random.sample(characters, 8)\n",
        "    password = \"\".join(password_chars)\n",
        "    return password\n",
        "\n",
        "def find_emails(text):\n",
        "    emails = re.findall(r'\\w+@\\w+\\.\\w+', text)\n",
        "\n",
        "    for email in emails:\n",
        "        username = email.split('@')[0]\n",
        "        print(f'{email} \\t username: {username}, password: {generate_random_password()}')\n",
        "\n",
        "find_emails(text)"
      ],
      "metadata": {
        "colab": {
          "base_uri": "https://localhost:8080/"
        },
        "id": "1aRccq5j9Act",
        "outputId": "5c7e46ed-2cdf-430e-adad-b2422d424afa"
      },
      "execution_count": 2,
      "outputs": [
        {
          "output_type": "stream",
          "name": "stdout",
          "text": [
            "anton@mail.com \t username: anton, password: FpI3s0YD\n",
            "budi@gmail.co \t username: budi, password: eDiXUJG4\n",
            "slamet@getnada.com \t username: slamet, password: ZI41eHr2\n",
            "matahari@tokopedia.com \t username: matahari, password: g95ZAzrG\n"
          ]
        }
      ]
    }
  ]
}